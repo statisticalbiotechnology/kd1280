{
 "cells": [
  {
   "cell_type": "markdown",
   "metadata": {
    "deletable": true,
    "editable": true
   },
   "source": [
    "## Övning 2.2"
   ]
  },
  {
   "cell_type": "markdown",
   "metadata": {
    "deletable": true,
    "editable": true
   },
   "source": [
    "Uppgiften lyder\n",
    "<img src=\"img/exe2.1.png\">"
   ]
  },
  {
   "cell_type": "markdown",
   "metadata": {
    "deletable": true,
    "editable": true
   },
   "source": [
    "Vi räknar först ut stickprovets medelvärde"
   ]
  },
  {
   "cell_type": "code",
   "execution_count": 1,
   "metadata": {
    "collapsed": true,
    "deletable": true,
    "editable": true
   },
   "outputs": [],
   "source": [
    "from math import *\n",
    "stickprov = [0.07,0.07,0.08,0.07,0.07,0.08,0.08,0.09,0.08]"
   ]
  },
  {
   "cell_type": "code",
   "execution_count": 2,
   "metadata": {
    "collapsed": false,
    "deletable": true,
    "editable": true
   },
   "outputs": [
    {
     "name": "stdout",
     "output_type": "stream",
     "text": [
      "0.0766666666667\n"
     ]
    }
   ],
   "source": [
    "summa = 0.0\n",
    "antal = 0\n",
    "for punkt in stickprov:\n",
    "    summa += punkt\n",
    "    antal += 1\n",
    "medel = summa/antal\n",
    "print medel"
   ]
  },
  {
   "cell_type": "markdown",
   "metadata": {
    "deletable": true,
    "editable": true
   },
   "source": [
    "Sedan räknar vi ut standardavvikelsen av stickprovet"
   ]
  },
  {
   "cell_type": "code",
   "execution_count": 3,
   "metadata": {
    "collapsed": false,
    "deletable": true,
    "editable": true
   },
   "outputs": [
    {
     "name": "stdout",
     "output_type": "stream",
     "text": [
      "0.00707106781187\n"
     ]
    }
   ],
   "source": [
    "kvadrat_summa = 0.0\n",
    "for punkt in stickprov:\n",
    "    kvadrat_summa += (punkt-medel)**2\n",
    "varians=kvadrat_summa/(antal-1)\n",
    "standardavvikelse = sqrt(varians)\n",
    "print standardavvikelse"
   ]
  },
  {
   "cell_type": "markdown",
   "metadata": {
    "deletable": true,
    "editable": true
   },
   "source": [
    "Vidare, relativa standardavvikelsen:"
   ]
  },
  {
   "cell_type": "code",
   "execution_count": 4,
   "metadata": {
    "collapsed": false,
    "deletable": true,
    "editable": true
   },
   "outputs": [
    {
     "name": "stdout",
     "output_type": "stream",
     "text": [
      "0.0922313192852\n"
     ]
    }
   ],
   "source": [
    "relativ_stdv = standardavvikelse/medel\n",
    "print relativ_stdv"
   ]
  },
  {
   "cell_type": "markdown",
   "metadata": {
    "deletable": true,
    "editable": true
   },
   "source": [
    "### Visualisering"
   ]
  },
  {
   "cell_type": "code",
   "execution_count": 17,
   "metadata": {
    "collapsed": false,
    "deletable": true,
    "editable": true
   },
   "outputs": [
    {
     "data": {
      "text/plain": [
       "([<matplotlib.axis.YTick at 0x7fa516650810>,\n",
       "  <matplotlib.axis.YTick at 0x7fa516650ed0>,\n",
       "  <matplotlib.axis.YTick at 0x7fa517c17390>,\n",
       "  <matplotlib.axis.YTick at 0x7fa5166844d0>,\n",
       "  <matplotlib.axis.YTick at 0x7fa516684390>,\n",
       "  <matplotlib.axis.YTick at 0x7fa516695b50>],\n",
       " <a list of 6 Text yticklabel objects>)"
      ]
     },
     "execution_count": 17,
     "metadata": {},
     "output_type": "execute_result"
    },
    {
     "data": {
      "image/png": "[encoded data removed]",
      "text/plain": [
       "<matplotlib.figure.Figure at 0x7fa516798150>"
      ]
     },
     "metadata": {},
     "output_type": "display_data"
    }
   ],
   "source": [
    "%matplotlib inline\n",
    "import pandas as pd\n",
    "import seaborn as sns\n",
    "import matplotlib.pyplot as plt\n",
    "import numpy as np\n",
    "df = pd.DataFrame(stickprov)\n",
    "sns.distplot(df, bins=[(0.0575+i*0.005) for i in range(8)],kde=False, color=\"b\")\n",
    "plt.yticks(np.arange(0.0, 6.0, 1.0))"
   ]
  },
  {
   "cell_type": "code",
   "execution_count": null,
   "metadata": {
    "collapsed": true,
    "deletable": true,
    "editable": true
   },
   "outputs": [],
   "source": []
  }
 ],
 "metadata": {
  "kernelspec": {
   "display_name": "Python 2",
   "language": "python",
   "name": "python2"
  },
  "language_info": {
   "codemirror_mode": {
    "name": "ipython",
    "version": 2
   },
   "file_extension": ".py",
   "mimetype": "text/x-python",
   "name": "python",
   "nbconvert_exporter": "python",
   "pygments_lexer": "ipython2",
   "version": "2.7.13"
  }
 },
 "nbformat": 4,
 "nbformat_minor": 2
}
