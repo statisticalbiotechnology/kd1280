{
 "cells": [
  {
   "cell_type": "markdown",
   "metadata": {
    "deletable": true,
    "editable": true
   },
   "source": [
    "## Övning 2.6"
   ]
  },
  {
   "cell_type": "markdown",
   "metadata": {
    "deletable": true,
    "editable": true
   },
   "source": [
    "Uppgiften lyder\n",
    "<img src=\"img/exe2.6.png\">"
   ]
  },
  {
   "cell_type": "markdown",
   "metadata": {
    "deletable": true,
    "editable": true
   },
   "source": [
    "Vi börjar med att fastställa medelvärde."
   ]
  },
  {
   "cell_type": "code",
   "execution_count": 1,
   "metadata": {
    "collapsed": true,
    "deletable": true,
    "editable": true
   },
   "outputs": [],
   "source": [
    "from math import *\n",
    "stickprov = [9.88,10.18,10.23,10.39,10.21]"
   ]
  },
  {
   "cell_type": "code",
   "execution_count": 2,
   "metadata": {
    "collapsed": false,
    "deletable": true,
    "editable": true
   },
   "outputs": [
    {
     "name": "stdout",
     "output_type": "stream",
     "text": [
      "10.178\n"
     ]
    }
   ],
   "source": [
    "summa = 0.0\n",
    "antal = 0\n",
    "for punkt in stickprov:\n",
    "    summa += punkt\n",
    "    antal += 1\n",
    "medel = summa/antal\n",
    "print medel"
   ]
  },
  {
   "cell_type": "markdown",
   "metadata": {
    "deletable": true,
    "editable": true
   },
   "source": [
    "Sedan räknar vi ut standardavvikelsen av stickprovet"
   ]
  },
  {
   "cell_type": "code",
   "execution_count": 3,
   "metadata": {
    "collapsed": false,
    "deletable": true,
    "editable": true
   },
   "outputs": [
    {
     "name": "stdout",
     "output_type": "stream",
     "text": [
      "0.18539147769\n"
     ]
    }
   ],
   "source": [
    "kvadrat_summa = 0.0\n",
    "for punkt in stickprov:\n",
    "    kvadrat_summa += (punkt-medel)**2\n",
    "varians=kvadrat_summa/(antal-1)\n",
    "standardavvikelse = sqrt(varians)\n",
    "print standardavvikelse"
   ]
  },
  {
   "cell_type": "markdown",
   "metadata": {
    "deletable": true,
    "editable": true
   },
   "source": [
    "Vi tar sedan reda på $t^{0.975}_4$ för att använda i 2-sidig konfidensintervalls bestämning för 95% intervall. Vi skulle även kunnat använda tabellen A.2 i Apendix A för att bestämma det här värdet."
   ]
  },
  {
   "cell_type": "code",
   "execution_count": 4,
   "metadata": {
    "collapsed": false,
    "deletable": true,
    "editable": true
   },
   "outputs": [
    {
     "name": "stdout",
     "output_type": "stream",
     "text": [
      "2.7764451052\n"
     ]
    }
   ],
   "source": [
    "from scipy.stats import t\n",
    "t95 = t.ppf(0.975,antal-1)\n",
    "print t95"
   ]
  },
  {
   "cell_type": "code",
   "execution_count": 5,
   "metadata": {
    "collapsed": false,
    "deletable": true,
    "editable": true
   },
   "outputs": [
    {
     "name": "stdout",
     "output_type": "stream",
     "text": [
      "95% konfidensintervallet för medelvärdet ligger från 9.947806 till 10.408194\n"
     ]
    }
   ],
   "source": [
    "upp = medel + standardavvikelse*t95/sqrt(antal)\n",
    "ner = medel - standardavvikelse*t95/sqrt(antal)\n",
    "print \"95%% konfidensintervallet för medelvärdet ligger från %f till %f\" % (ner,upp)"
   ]
  },
  {
   "cell_type": "markdown",
   "metadata": {
    "deletable": true,
    "editable": true
   },
   "source": [
    "Det 95%-iga konfidensintervallet inkluderar 10 ml, så vi kan inte se bevis för systematiska fel."
   ]
  },
  {
   "cell_type": "markdown",
   "metadata": {
    "deletable": true,
    "editable": true
   },
   "source": [
    "### Visualisering"
   ]
  },
  {
   "cell_type": "code",
   "execution_count": 6,
   "metadata": {
    "collapsed": false,
    "deletable": true,
    "editable": true
   },
   "outputs": [
    {
     "data": {
      "text/plain": [
       "<matplotlib.collections.LineCollection at 0x7f7541262590>"
      ]
     },
     "execution_count": 6,
     "metadata": {},
     "output_type": "execute_result"
    },
    {
     "data": {
      "image/png": "[encoded data removed]",
      "text/plain": [
       "<matplotlib.figure.Figure at 0x7f7543745d50>"
      ]
     },
     "metadata": {},
     "output_type": "display_data"
    }
   ],
   "source": [
    "%matplotlib inline\n",
    "\n",
    "import matplotlib.pyplot as plt\n",
    "import pandas as pd\n",
    "import seaborn as sns\n",
    "df = pd.DataFrame(stickprov,columns=[\"Syra volym [ml]\"])\n",
    "sns.set(style=\"whitegrid\", color_codes=True)\n",
    "sns.stripplot(data=df,y=\"Syra volym [ml]\")\n",
    "plt.plot([-0.1,-0.1],[upp,ner],'r-',marker='P',ms=10,lw=4)\n",
    "plt.plot(-0.1,medel,'k+',marker='.',ms=20)\n",
    "plt.hlines(10.0,-.2,.2,colors='b')\n"
   ]
  },
  {
   "cell_type": "markdown",
   "metadata": {
    "collapsed": true,
    "deletable": true,
    "editable": true
   },
   "source": [
    "### Lösning med t-test"
   ]
  },
  {
   "cell_type": "markdown",
   "metadata": {
    "deletable": true,
    "editable": true
   },
   "source": [
    "Vi kan även använda ett t-test för att undersöka om data skiljer sig signifikat åt från önskat värde ($10.0$).\n",
    "Vi använder oss av ekvation (3.2.1) "
   ]
  },
  {
   "cell_type": "code",
   "execution_count": 7,
   "metadata": {
    "collapsed": false,
    "deletable": true,
    "editable": true
   },
   "outputs": [
    {
     "data": {
      "text/plain": [
       "2.1469169184841514"
      ]
     },
     "execution_count": 7,
     "metadata": {},
     "output_type": "execute_result"
    }
   ],
   "source": [
    "tv = (medel-10.0)*sqrt(antal)/standardavvikelse\n",
    "tv"
   ]
  },
  {
   "cell_type": "markdown",
   "metadata": {},
   "source": [
    "Vi kan nu använda oss av en $t$-fördelning för at räkna ut ettt kritiskt värde (eller använda tabell A.2)"
   ]
  },
  {
   "cell_type": "code",
   "execution_count": 8,
   "metadata": {
    "collapsed": false,
    "deletable": true,
    "editable": true
   },
   "outputs": [
    {
     "data": {
      "text/plain": [
       "2.7764451051977987"
      ]
     },
     "execution_count": 8,
     "metadata": {},
     "output_type": "execute_result"
    }
   ],
   "source": [
    "t.ppf(1-0.05/2,antal-1)"
   ]
  },
  {
   "cell_type": "markdown",
   "metadata": {},
   "source": [
    "Vi ser att stickprovets $t$-värde är mindre än det kritiska värdet, och alltså kan vi inte förkasta $H_0$, att det existerar ett systematiskt fel i hur vi mäter syra i detangivna experimentet.\n",
    "\n",
    "Alternativt kan vi räkna ut ett $p$-värde via t-fördelningen."
   ]
  },
  {
   "cell_type": "code",
   "execution_count": 9,
   "metadata": {
    "collapsed": false,
    "deletable": true,
    "editable": true
   },
   "outputs": [
    {
     "data": {
      "text/plain": [
       "0.098321188003634472"
      ]
     },
     "execution_count": 9,
     "metadata": {},
     "output_type": "execute_result"
    }
   ],
   "source": [
    "p=2*t.sf(tv,antal-1)\n",
    "p"
   ]
  },
  {
   "cell_type": "code",
   "execution_count": null,
   "metadata": {
    "collapsed": true,
    "deletable": true,
    "editable": true
   },
   "outputs": [],
   "source": []
  }
 ],
 "metadata": {
  "kernelspec": {
   "display_name": "Python 2",
   "language": "python",
   "name": "python2"
  },
  "language_info": {
   "codemirror_mode": {
    "name": "ipython",
    "version": 2
   },
   "file_extension": ".py",
   "mimetype": "text/x-python",
   "name": "python",
   "nbconvert_exporter": "python",
   "pygments_lexer": "ipython2",
   "version": "2.7.13"
  }
 },
 "nbformat": 4,
 "nbformat_minor": 2
}
