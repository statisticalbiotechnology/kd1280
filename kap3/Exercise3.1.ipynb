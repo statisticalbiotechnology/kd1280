{
 "cells": [
  {
   "cell_type": "markdown",
   "metadata": {
    "deletable": true,
    "editable": true
   },
   "source": [
    "## Övning 3.1"
   ]
  },
  {
   "cell_type": "markdown",
   "metadata": {
    "deletable": true,
    "editable": true
   },
   "source": [
    "Uppgiften lyder\n",
    "<img src=\"img/exe3.1.png\">"
   ]
  },
  {
   "cell_type": "code",
   "execution_count": 73,
   "metadata": {
    "collapsed": true,
    "deletable": true,
    "editable": true
   },
   "outputs": [],
   "source": [
    "stickprov = [11.68, 11.12, 8.92, 8.82, 10.31, 11.88, 9.84, 11.69, 9.53, 10.30, 9.17, 10.04,\n",
    "10.65, 10.91, 10.32, 8.71, 9.83, 9.90, 10.40]"
   ]
  },
  {
   "cell_type": "markdown",
   "metadata": {
    "deletable": true,
    "editable": true
   },
   "source": [
    "Först gör vi ett histogram av stickprovet, bara för att få en uppfattning av hur datat ser ut."
   ]
  },
  {
   "cell_type": "code",
   "execution_count": 74,
   "metadata": {
    "collapsed": false,
    "deletable": true,
    "editable": true
   },
   "outputs": [
    {
     "data": {
      "text/plain": [
       "<matplotlib.axes._subplots.AxesSubplot at 0x109fb3250>"
      ]
     },
     "execution_count": 74,
     "metadata": {},
     "output_type": "execute_result"
    },
    {
     "data": {
      "image/png": "[encoded data removed]",
      "text/plain": [
       "<matplotlib.figure.Figure at 0x10a0b0a90>"
      ]
     },
     "metadata": {},
     "output_type": "display_data"
    }
   ],
   "source": [
    "%matplotlib inline\n",
    "import pandas as pd\n",
    "import seaborn as sns\n",
    "import numpy as np\n",
    "sns.distplot(pd.DataFrame(stickprov), bins=np.linspace(8.5, 12.0, num=15), rug=True, kde=False, color=\"m\")\n"
   ]
  },
  {
   "cell_type": "code",
   "execution_count": 75,
   "metadata": {
    "collapsed": true,
    "deletable": true,
    "editable": true
   },
   "outputs": [],
   "source": [
    "import numpy as np\n",
    "from scipy.stats import norm\n",
    "\n",
    "stickprov.sort()\n",
    "medel = np.mean(stickprov)\n",
    "standardavvikelse = np.std(stickprov,ddof=1)\n",
    "\n",
    "kumulativ_sannolikhet=norm.cdf(stickprov,loc=medel, scale=standardavvikelse)\n",
    "steg = 1.0/(len(stickprov)+1.0)\n",
    "relativrank = [(a+1.0)*steg for a in range(len(stickprov))]\n"
   ]
  },
  {
   "cell_type": "code",
   "execution_count": 76,
   "metadata": {
    "collapsed": false,
    "deletable": true,
    "editable": true
   },
   "outputs": [
    {
     "data": {
      "text/plain": [
       "<matplotlib.text.Text at 0x109d36450>"
      ]
     },
     "execution_count": 76,
     "metadata": {},
     "output_type": "execute_result"
    },
    {
     "data": {
      "image/png": "[encoded data removed]",
      "text/plain": [
       "<matplotlib.figure.Figure at 0x10a480e50>"
      ]
     },
     "metadata": {},
     "output_type": "display_data"
    }
   ],
   "source": [
    "%matplotlib inline\n",
    "\n",
    "import matplotlib.pyplot as plt\n",
    "plt.plot(relativrank,kumulativ_sannolikhet,'b.')\n",
    "plt.plot(kumulativ_sannolikhet,kumulativ_sannolikhet,'r-')\n",
    "plt.xlabel(\"Relativ rank\")\n",
    "plt.ylabel(\"Kumulativ sannolikhet, $\\Phi(x)$\")\n"
   ]
  },
  {
   "cell_type": "markdown",
   "metadata": {
    "collapsed": true,
    "deletable": true,
    "editable": true
   },
   "source": [
    "### Utanför uppgiften, jämförelse mot exempel med icke normalfördelat material."
   ]
  },
  {
   "cell_type": "code",
   "execution_count": 77,
   "metadata": {
    "collapsed": false
   },
   "outputs": [
    {
     "data": {
      "text/plain": [
       "<matplotlib.axes._subplots.AxesSubplot at 0x10a4e08d0>"
      ]
     },
     "execution_count": 77,
     "metadata": {},
     "output_type": "execute_result"
    },
    {
     "data": {
      "image/png": "[encoded data removed]",
      "text/plain": [
       "<matplotlib.figure.Figure at 0x109f65910>"
      ]
     },
     "metadata": {},
     "output_type": "display_data"
    }
   ],
   "source": [
    "stickprov = [11.68, 11.12, 11.92, 11.82, 11.31, 11.88, 11.84, 11.69, 11.53, 6.30, 9.17, 10.04,\n",
    "6.65, 10.91, 10.32, 8.71, 11.83, 11.90, 10.40]\n",
    "sns.distplot(pd.DataFrame(stickprov), rug=True, kde=False, color=\"m\")\n"
   ]
  },
  {
   "cell_type": "code",
   "execution_count": 78,
   "metadata": {
    "collapsed": false
   },
   "outputs": [
    {
     "name": "stdout",
     "output_type": "stream",
     "text": [
      "10.58 1.72938010731\n",
      "[ 0.00666414  0.01152845  0.13977911  0.20744428  0.37742503  0.44024705\n",
      "  0.45855153  0.57566662  0.62257497  0.66353003  0.70861042  0.73763332\n",
      "  0.73951422  0.7633191   0.76509934  0.76687215  0.7738886   0.77735157\n",
      "  0.78078411]\n"
     ]
    }
   ],
   "source": [
    "stickprov.sort()\n",
    "medel = np.mean(stickprov)\n",
    "standardavvikelse = np.std(stickprov,ddof=1)\n",
    "\n",
    "print medel, standardavvikelse\n",
    "\n",
    "kumulativ_sannolikhet=norm.cdf(stickprov,loc=medel, scale=standardavvikelse)\n",
    "steg = 1.0/(len(stickprov)+1.0)\n",
    "relativrank = [(a+1.0)*steg for a in range(len(stickprov))]\n",
    "\n",
    "print kumulativ_sannolikhet\n"
   ]
  },
  {
   "cell_type": "code",
   "execution_count": 79,
   "metadata": {
    "collapsed": false
   },
   "outputs": [
    {
     "data": {
      "text/plain": [
       "<matplotlib.text.Text at 0x10a6cc9d0>"
      ]
     },
     "execution_count": 79,
     "metadata": {},
     "output_type": "execute_result"
    },
    {
     "data": {
      "image/png": "[encoded data removed]",
      "text/plain": [
       "<matplotlib.figure.Figure at 0x10a52a950>"
      ]
     },
     "metadata": {},
     "output_type": "display_data"
    }
   ],
   "source": [
    "import matplotlib.pyplot as plt\n",
    "plt.clf()\n",
    "plt.plot(relativrank,kumulativ_sannolikhet,'b.')\n",
    "plt.plot([0.,1.],[0.,1.],'r-')\n",
    "plt.xlabel(\"Relativ rank\")\n",
    "plt.ylabel(\"Kumulativ sannolikhet, $\\Phi(x)$\")\n"
   ]
  },
  {
   "cell_type": "code",
   "execution_count": null,
   "metadata": {
    "collapsed": true
   },
   "outputs": [],
   "source": []
  }
 ],
 "metadata": {
  "kernelspec": {
   "display_name": "Python 2",
   "language": "python",
   "name": "python2"
  },
  "language_info": {
   "codemirror_mode": {
    "name": "ipython",
    "version": 2
   },
   "file_extension": ".py",
   "mimetype": "text/x-python",
   "name": "python",
   "nbconvert_exporter": "python",
   "pygments_lexer": "ipython2",
   "version": "2.7.13"
  }
 },
 "nbformat": 4,
 "nbformat_minor": 2
}
