{
 "cells": [
  {
   "cell_type": "markdown",
   "metadata": {
    "deletable": true,
    "editable": true
   },
   "source": [
    "## Övning 3.11"
   ]
  },
  {
   "cell_type": "markdown",
   "metadata": {
    "deletable": true,
    "editable": true
   },
   "source": [
    "Uppgiften lyder\n",
    "<img src=\"img/exe3.11.png\">"
   ]
  },
  {
   "cell_type": "code",
   "execution_count": 21,
   "metadata": {
    "collapsed": false,
    "deletable": true,
    "editable": true
   },
   "outputs": [
    {
     "data": {
      "text/html": [
       "<div>\n",
       "<table border=\"1\" class=\"dataframe\">\n",
       "  <thead>\n",
       "    <tr style=\"text-align: right;\">\n",
       "      <th></th>\n",
       "      <th>A</th>\n",
       "      <th>B</th>\n",
       "      <th>C</th>\n",
       "      <th>D</th>\n",
       "      <th>E</th>\n",
       "      <th>F</th>\n",
       "    </tr>\n",
       "  </thead>\n",
       "  <tbody>\n",
       "    <tr>\n",
       "      <th>0</th>\n",
       "      <td>84.32</td>\n",
       "      <td>84.24</td>\n",
       "      <td>84.29</td>\n",
       "      <td>84.14</td>\n",
       "      <td>84.50</td>\n",
       "      <td>84.70</td>\n",
       "    </tr>\n",
       "    <tr>\n",
       "      <th>1</th>\n",
       "      <td>84.51</td>\n",
       "      <td>84.25</td>\n",
       "      <td>84.40</td>\n",
       "      <td>84.22</td>\n",
       "      <td>83.88</td>\n",
       "      <td>84.17</td>\n",
       "    </tr>\n",
       "    <tr>\n",
       "      <th>2</th>\n",
       "      <td>84.63</td>\n",
       "      <td>84.41</td>\n",
       "      <td>84.68</td>\n",
       "      <td>84.02</td>\n",
       "      <td>84.49</td>\n",
       "      <td>84.11</td>\n",
       "    </tr>\n",
       "    <tr>\n",
       "      <th>3</th>\n",
       "      <td>84.61</td>\n",
       "      <td>84.13</td>\n",
       "      <td>84.28</td>\n",
       "      <td>84.48</td>\n",
       "      <td>83.91</td>\n",
       "      <td>84.36</td>\n",
       "    </tr>\n",
       "    <tr>\n",
       "      <th>4</th>\n",
       "      <td>84.64</td>\n",
       "      <td>84.00</td>\n",
       "      <td>84.40</td>\n",
       "      <td>84.27</td>\n",
       "      <td>84.11</td>\n",
       "      <td>84.61</td>\n",
       "    </tr>\n",
       "    <tr>\n",
       "      <th>5</th>\n",
       "      <td>84.51</td>\n",
       "      <td>84.30</td>\n",
       "      <td>84.36</td>\n",
       "      <td>84.33</td>\n",
       "      <td>84.06</td>\n",
       "      <td>83.81</td>\n",
       "    </tr>\n",
       "  </tbody>\n",
       "</table>\n",
       "</div>"
      ],
      "text/plain": [
       "       A      B      C      D      E      F\n",
       "0  84.32  84.24  84.29  84.14  84.50  84.70\n",
       "1  84.51  84.25  84.40  84.22  83.88  84.17\n",
       "2  84.63  84.41  84.68  84.02  84.49  84.11\n",
       "3  84.61  84.13  84.28  84.48  83.91  84.36\n",
       "4  84.64  84.00  84.40  84.27  84.11  84.61\n",
       "5  84.51  84.30  84.36  84.33  84.06  83.81"
      ]
     },
     "execution_count": 21,
     "metadata": {},
     "output_type": "execute_result"
    }
   ],
   "source": [
    "import pandas as pd\n",
    "import numpy as np\n",
    "\n",
    "stickprov = \\\n",
    "  [[84.32,84.24,84.29,84.14,84.50,84.70], \\\n",
    "   [84.51,84.25,84.40,84.22,83.88,84.17], \\\n",
    "   [84.63,84.41,84.68,84.02,84.49,84.11], \\\n",
    "   [84.61,84.13,84.28,84.48,83.91,84.36], \\\n",
    "   [84.64,84.00,84.40,84.27,84.11,84.61], \\\n",
    "   [84.51,84.30,84.36,84.33,84.06,83.81]]\n",
    "\n",
    "data = pd.DataFrame(stickprov,columns=[\"A\",\"B\",\"C\",\"D\",\"E\",\"F\"])\n",
    "data"
   ]
  },
  {
   "cell_type": "code",
   "execution_count": 29,
   "metadata": {
    "collapsed": false,
    "deletable": true,
    "editable": true
   },
   "outputs": [
    {
     "data": {
      "text/plain": [
       "<matplotlib.text.Text at 0x7fafa93d3990>"
      ]
     },
     "execution_count": 29,
     "metadata": {},
     "output_type": "execute_result"
    },
    {
     "data": {
      "image/png": "[encoded data removed]",
      "text/plain": [
       "<matplotlib.figure.Figure at 0x7fafa92cb550>"
      ]
     },
     "metadata": {},
     "output_type": "display_data"
    }
   ],
   "source": [
    "%matplotlib inline\n",
    "import matplotlib.pyplot as plt\n",
    "import seaborn as sns\n",
    "\n",
    "sns.set(style=\"whitegrid\", color_codes=True)\n",
    "sns.stripplot(data=data)\n",
    "plt.ylabel(\"Andel Paracetamol i procent\")"
   ]
  },
  {
   "cell_type": "code",
   "execution_count": 23,
   "metadata": {
    "collapsed": false,
    "deletable": true,
    "editable": true
   },
   "outputs": [
    {
     "name": "stdout",
     "output_type": "stream",
     "text": [
      "84.3091666667\n",
      "A    84.536667\n",
      "B    84.221667\n",
      "C    84.401667\n",
      "D    84.243333\n",
      "E    84.158333\n",
      "F    84.293333\n",
      "dtype: float64\n"
     ]
    }
   ],
   "source": [
    "antal = data.count()\n",
    "antal_klasser = antal.count()\n",
    "antal_replikat = antal[\"A\"]\n",
    "\n",
    "medel = data.mean()\n",
    "var = data.var()\n",
    "global_medel = data.mean(axis=1).mean()\n",
    "print global_medel\n",
    "print medel"
   ]
  },
  {
   "cell_type": "code",
   "execution_count": 24,
   "metadata": {
    "collapsed": false,
    "deletable": true,
    "editable": true
   },
   "outputs": [
    {
     "data": {
      "text/plain": [
       "0.11436499999999747"
      ]
     },
     "execution_count": 24,
     "metadata": {},
     "output_type": "execute_result"
    }
   ],
   "source": [
    "mellan_prov_var = (antal_replikat*(medel-global_medel)**2).sum()/(antal_klasser-1)\n",
    "mellan_prov_var"
   ]
  },
  {
   "cell_type": "code",
   "execution_count": 25,
   "metadata": {
    "collapsed": false,
    "deletable": true,
    "editable": true
   },
   "outputs": [
    {
     "data": {
      "text/plain": [
       "0.044521666666666848"
      ]
     },
     "execution_count": 25,
     "metadata": {},
     "output_type": "execute_result"
    }
   ],
   "source": [
    "inom_prov_var = data.var().sum()/antal_klasser\n",
    "inom_prov_var"
   ]
  },
  {
   "cell_type": "markdown",
   "metadata": {
    "deletable": true,
    "editable": true
   },
   "source": [
    "Vi kan nu göra ett F-test för att se om serierna har signifikant olika varians. Se (3.6.1)"
   ]
  },
  {
   "cell_type": "code",
   "execution_count": 26,
   "metadata": {
    "collapsed": false,
    "deletable": true,
    "editable": true
   },
   "outputs": [
    {
     "data": {
      "text/plain": [
       "2.5687492980944935"
      ]
     },
     "execution_count": 26,
     "metadata": {},
     "output_type": "execute_result"
    }
   ],
   "source": [
    "F=mellan_prov_var/inom_prov_var\n",
    "F"
   ]
  },
  {
   "cell_type": "markdown",
   "metadata": {
    "deletable": true,
    "editable": true
   },
   "source": [
    "Kritiskt värde kan utläsas ur tabel A.4 eller ur följande formel."
   ]
  },
  {
   "cell_type": "code",
   "execution_count": 27,
   "metadata": {
    "collapsed": false,
    "deletable": true,
    "editable": true
   },
   "outputs": [
    {
     "data": {
      "text/plain": [
       "2.53355454755927"
      ]
     },
     "execution_count": 27,
     "metadata": {},
     "output_type": "execute_result"
    }
   ],
   "source": [
    "from scipy.stats import f\n",
    "f.ppf(1-0.05,antal_klasser-1,antal_klasser*(antal_replikat-1))"
   ]
  },
  {
   "cell_type": "markdown",
   "metadata": {
    "deletable": true,
    "editable": true
   },
   "source": [
    "Eftersom vårt värde $F$ är större än det kritiska värdet så kan vi förkasta att serierna har samma genomsnitt. Vi skulle även kunnat komma till samma slutsats genom att räkna ut $F$-testets $p$-värde"
   ]
  },
  {
   "cell_type": "code",
   "execution_count": 28,
   "metadata": {
    "collapsed": false,
    "deletable": true,
    "editable": true
   },
   "outputs": [
    {
     "data": {
      "text/plain": [
       "0.047561769610021815"
      ]
     },
     "execution_count": 28,
     "metadata": {},
     "output_type": "execute_result"
    }
   ],
   "source": [
    "p=f.sf(F,antal_klasser-1,antal_klasser*(antal_replikat-1))\n",
    "p"
   ]
  }
 ],
 "metadata": {
  "kernelspec": {
   "display_name": "Python 2",
   "language": "python",
   "name": "python2"
  },
  "language_info": {
   "codemirror_mode": {
    "name": "ipython",
    "version": 2
   },
   "file_extension": ".py",
   "mimetype": "text/x-python",
   "name": "python",
   "nbconvert_exporter": "python",
   "pygments_lexer": "ipython2",
   "version": "2.7.13"
  }
 },
 "nbformat": 4,
 "nbformat_minor": 2
}
