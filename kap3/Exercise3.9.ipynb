{
 "cells": [
  {
   "cell_type": "markdown",
   "metadata": {
    "deletable": true,
    "editable": true
   },
   "source": [
    "## Övning 3.9"
   ]
  },
  {
   "cell_type": "markdown",
   "metadata": {
    "deletable": true,
    "editable": true
   },
   "source": [
    "Uppgiften lyder\n",
    "<img src=\"img/exe3.9.png\">"
   ]
  },
  {
   "cell_type": "code",
   "execution_count": 38,
   "metadata": {
    "collapsed": false,
    "deletable": true,
    "editable": true
   },
   "outputs": [],
   "source": [
    "stickprov = [24,17,11,9]"
   ]
  },
  {
   "cell_type": "markdown",
   "metadata": {
    "deletable": true,
    "editable": true
   },
   "source": [
    "Låt oss först utföra en vanlig chi2 test som testar nollhypotesen att alla arbetarna krossar lika många glas."
   ]
  },
  {
   "cell_type": "code",
   "execution_count": 39,
   "metadata": {
    "collapsed": false,
    "deletable": true,
    "editable": true
   },
   "outputs": [
    {
     "name": "stdout",
     "output_type": "stream",
     "text": [
      "15.25\n",
      "8.96721311475\n"
     ]
    }
   ],
   "source": [
    "import numpy as np\n",
    "\n",
    "medel = np.mean(stickprov)\n",
    "print medel\n",
    "residy = stickprov - medel\n",
    "kvadrat_residy = residy*residy\n",
    "rel_kvadrat_residy = kvadrat_residy / medel\n",
    "\n",
    "chi2_v=np.sum(rel_kvadrat_residy)\n",
    "print chi2_v"
   ]
  },
  {
   "cell_type": "markdown",
   "metadata": {
    "deletable": true,
    "editable": true
   },
   "source": [
    "Vi har ett kritiskt värde på 5%-nivå som kan slås upp i Tabell A.7, eller räknas ut enl nedan. Vi räknar även ut ett p-värde. "
   ]
  },
  {
   "cell_type": "code",
   "execution_count": 40,
   "metadata": {
    "collapsed": false,
    "deletable": true,
    "editable": true
   },
   "outputs": [
    {
     "data": {
      "text/plain": [
       "7.8147279032511765"
      ]
     },
     "execution_count": 40,
     "metadata": {},
     "output_type": "execute_result"
    }
   ],
   "source": [
    "from scipy.stats import chi2\n",
    "chi2.ppf(1-0.05,len(stickprov)-1)\n"
   ]
  },
  {
   "cell_type": "code",
   "execution_count": 41,
   "metadata": {
    "collapsed": false,
    "deletable": true,
    "editable": true
   },
   "outputs": [
    {
     "data": {
      "text/plain": [
       "0.029729997144680716"
      ]
     },
     "execution_count": 41,
     "metadata": {},
     "output_type": "execute_result"
    }
   ],
   "source": [
    "p=chi2.sf(chi2_v,len(stickprov)-1)\n",
    "p"
   ]
  },
  {
   "cell_type": "markdown",
   "metadata": {
    "deletable": true,
    "editable": true
   },
   "source": [
    "Vi har nu konstaterat att någon av diskarna skiljer sig signifikant åt.\n",
    "\n",
    "A. Nu undersöker vi om det är första diskaren som skiljer sig från de andra, genom att poola de andra tres glaskross."
   ]
  },
  {
   "cell_type": "code",
   "execution_count": 42,
   "metadata": {
    "collapsed": false,
    "deletable": true,
    "editable": true
   },
   "outputs": [],
   "source": [
    "o1 = stickprov[0]\n",
    "o2 = np.sum(stickprov[1:])"
   ]
  },
  {
   "cell_type": "markdown",
   "metadata": {
    "deletable": true,
    "editable": true
   },
   "source": [
    "Eftersom vi bara har två klasser bör vi använda Yates-korrektion, se sidan 60 i Miller&Miller"
   ]
  },
  {
   "cell_type": "code",
   "execution_count": 43,
   "metadata": {
    "collapsed": false,
    "deletable": true,
    "editable": true
   },
   "outputs": [
    {
     "data": {
      "text/plain": [
       "5.9508196721311473"
      ]
     },
     "execution_count": 43,
     "metadata": {},
     "output_type": "execute_result"
    }
   ],
   "source": [
    "r1 = abs(o1-medel)-0.5 \n",
    "r2 = abs(o2-medel*3)-0.5\n",
    "chi2_v = r1*r1/medel + r2*r2/(3*medel)\n",
    "chi2_v"
   ]
  },
  {
   "cell_type": "markdown",
   "metadata": {
    "deletable": true,
    "editable": true
   },
   "source": [
    "Vi har ett kritiskt värde på 5%-nivå som kan slås upp i Tabell A.7, eller räknas ut enl nedan. Vi räknar även ut ett p-värde. "
   ]
  },
  {
   "cell_type": "code",
   "execution_count": 44,
   "metadata": {
    "collapsed": false,
    "deletable": true,
    "editable": true
   },
   "outputs": [
    {
     "data": {
      "text/plain": [
       "3.8414588206941236"
      ]
     },
     "execution_count": 44,
     "metadata": {},
     "output_type": "execute_result"
    }
   ],
   "source": [
    "chi2.ppf(1-0.05,1)"
   ]
  },
  {
   "cell_type": "code",
   "execution_count": 45,
   "metadata": {
    "collapsed": false,
    "deletable": true,
    "editable": true
   },
   "outputs": [
    {
     "data": {
      "text/plain": [
       "0.014710444453394761"
      ]
     },
     "execution_count": 45,
     "metadata": {},
     "output_type": "execute_result"
    }
   ],
   "source": [
    "p=chi2.sf(chi2_v,2-1)\n",
    "p"
   ]
  },
  {
   "cell_type": "markdown",
   "metadata": {
    "deletable": true,
    "editable": true
   },
   "source": [
    "Dvs, vi kan säga att den förste diskaren skiljer sig signifikant från de andra.\n",
    "\n",
    "B. Vi exkluderar förste diskaren och gör sedan ett vanligt chi2-test"
   ]
  },
  {
   "cell_type": "code",
   "execution_count": 49,
   "metadata": {
    "collapsed": false,
    "deletable": true,
    "editable": true
   },
   "outputs": [
    {
     "name": "stdout",
     "output_type": "stream",
     "text": [
      "2.81081081081\n"
     ]
    }
   ],
   "source": [
    "del_stickprov = stickprov[1:]\n",
    "\n",
    "medel = np.mean(del_stickprov)\n",
    "residy = del_stickprov - medel\n",
    "kvadrat_residy = residy*residy\n",
    "rel_kvadrat_residy = kvadrat_residy / medel\n",
    "\n",
    "chi2_v=np.sum(rel_kvadrat_residy)\n",
    "print chi2_v"
   ]
  },
  {
   "cell_type": "code",
   "execution_count": 50,
   "metadata": {
    "collapsed": false,
    "deletable": true,
    "editable": true
   },
   "outputs": [
    {
     "data": {
      "text/plain": [
       "5.9914645471079799"
      ]
     },
     "execution_count": 50,
     "metadata": {},
     "output_type": "execute_result"
    }
   ],
   "source": [
    "chi2.ppf(1-0.05,len(del_stickprov)-1)"
   ]
  },
  {
   "cell_type": "code",
   "execution_count": 51,
   "metadata": {
    "collapsed": false,
    "deletable": true,
    "editable": true
   },
   "outputs": [
    {
     "data": {
      "text/plain": [
       "0.24526760348267992"
      ]
     },
     "execution_count": 51,
     "metadata": {},
     "output_type": "execute_result"
    }
   ],
   "source": [
    "p=chi2.sf(chi2_v,len(del_stickprov)-1)\n",
    "p"
   ]
  },
  {
   "cell_type": "markdown",
   "metadata": {
    "deletable": true,
    "editable": true
   },
   "source": [
    "Vi kan alltså inte bevisa att de övriga diskarna skiljer sig signifikant åt"
   ]
  }
 ],
 "metadata": {
  "kernelspec": {
   "display_name": "Python 2",
   "language": "python",
   "name": "python2"
  },
  "language_info": {
   "codemirror_mode": {
    "name": "ipython",
    "version": 2
   },
   "file_extension": ".py",
   "mimetype": "text/x-python",
   "name": "python",
   "nbconvert_exporter": "python",
   "pygments_lexer": "ipython2",
   "version": "2.7.13"
  }
 },
 "nbformat": 4,
 "nbformat_minor": 2
}
