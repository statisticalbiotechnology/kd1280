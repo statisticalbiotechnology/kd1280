{
 "cells": [
  {
   "cell_type": "markdown",
   "metadata": {
    "deletable": true,
    "editable": true
   },
   "source": [
    "## Övning 5.3"
   ]
  },
  {
   "cell_type": "markdown",
   "metadata": {
    "deletable": true,
    "editable": true
   },
   "source": [
    "Uppgiften lyder\n",
    "<img src=\"img/exe5.3.png\">"
   ]
  },
  {
   "cell_type": "code",
   "execution_count": 22,
   "metadata": {
    "collapsed": false,
    "deletable": true,
    "editable": true
   },
   "outputs": [
    {
     "data": {
      "text/html": [
       "<div>\n",
       "<table border=\"1\" class=\"dataframe\">\n",
       "  <thead>\n",
       "    <tr style=\"text-align: right;\">\n",
       "      <th></th>\n",
       "      <th>Silver</th>\n",
       "      <th>Absorbance</th>\n",
       "    </tr>\n",
       "  </thead>\n",
       "  <tbody>\n",
       "    <tr>\n",
       "      <th>0</th>\n",
       "      <td>0.0</td>\n",
       "      <td>0.003</td>\n",
       "    </tr>\n",
       "    <tr>\n",
       "      <th>1</th>\n",
       "      <td>5.0</td>\n",
       "      <td>0.127</td>\n",
       "    </tr>\n",
       "    <tr>\n",
       "      <th>2</th>\n",
       "      <td>10.0</td>\n",
       "      <td>0.251</td>\n",
       "    </tr>\n",
       "    <tr>\n",
       "      <th>3</th>\n",
       "      <td>15.0</td>\n",
       "      <td>0.390</td>\n",
       "    </tr>\n",
       "    <tr>\n",
       "      <th>4</th>\n",
       "      <td>20.0</td>\n",
       "      <td>0.498</td>\n",
       "    </tr>\n",
       "    <tr>\n",
       "      <th>5</th>\n",
       "      <td>25.0</td>\n",
       "      <td>0.625</td>\n",
       "    </tr>\n",
       "    <tr>\n",
       "      <th>6</th>\n",
       "      <td>30.0</td>\n",
       "      <td>0.763</td>\n",
       "    </tr>\n",
       "  </tbody>\n",
       "</table>\n",
       "</div>"
      ],
      "text/plain": [
       "   Silver  Absorbance\n",
       "0     0.0       0.003\n",
       "1     5.0       0.127\n",
       "2    10.0       0.251\n",
       "3    15.0       0.390\n",
       "4    20.0       0.498\n",
       "5    25.0       0.625\n",
       "6    30.0       0.763"
      ]
     },
     "execution_count": 22,
     "metadata": {},
     "output_type": "execute_result"
    }
   ],
   "source": [
    "import pandas as pd\n",
    "import numpy as np\n",
    "\n",
    "stickprov = [[0,5,10,15,20,25,30],[0.003,0.127,0.251,0.390,0.498,0.625,0.763]]\n",
    "data = pd.DataFrame(np.transpose(stickprov),columns=[\"Silver\",\"Absorbance\"])\n",
    "data"
   ]
  },
  {
   "cell_type": "code",
   "execution_count": 23,
   "metadata": {
    "collapsed": false,
    "deletable": true,
    "editable": true,
    "scrolled": false
   },
   "outputs": [
    {
     "data": {
      "image/png": "[encoded data removed]",
      "text/plain": [
       "<matplotlib.figure.Figure at 0x1136ab750>"
      ]
     },
     "metadata": {},
     "output_type": "display_data"
    }
   ],
   "source": [
    "%matplotlib inline\n",
    "import matplotlib.pyplot as plt\n",
    "import seaborn as sns\n",
    "\n",
    "sns.set()\n",
    "g = sns.lmplot(data=data,x=\"Silver\",y=\"Absorbance\",fit_reg=False)\n"
   ]
  },
  {
   "cell_type": "markdown",
   "metadata": {
    "deletable": true,
    "editable": true
   },
   "source": [
    "Vi gör elementvis summering, för att bestämma regressions koefficienter enl ekvation 5.4.1 och 5.4.2."
   ]
  },
  {
   "cell_type": "code",
   "execution_count": 24,
   "metadata": {
    "collapsed": false,
    "deletable": true,
    "editable": true
   },
   "outputs": [
    {
     "name": "stdout",
     "output_type": "stream",
     "text": [
      "Regressions linje given av y= 0.025 * x + 0.002\n"
     ]
    }
   ],
   "source": [
    "antal, sum_x, sum_y = 0,.0,.0\n",
    "for row in data.itertuples():\n",
    "    sum_x += row[1]\n",
    "    sum_y += row[2]\n",
    "    antal += 1\n",
    "mean_x,mean_y = sum_x/antal, sum_y/antal\n",
    "sum_xy, sum_xx = .0,.0\n",
    "for row in data.itertuples():\n",
    "    sum_xy += (row[1]-mean_x)*(row[2]-mean_y)\n",
    "    sum_xx += (row[1]-mean_x)**2\n",
    "\n",
    "b = sum_xy/sum_xx\n",
    "a = mean_y-b*mean_x\n",
    "\n",
    "print \"Regressions linje given av y= %.3f * x + %.3f\" % (b,a)\n"
   ]
  },
  {
   "cell_type": "markdown",
   "metadata": {
    "deletable": true,
    "editable": true
   },
   "source": [
    "Vi använder sedan ekvation 5.5.1, 5.5.2 och 5.5.3 för att räkna ut standardfel och 95% konfidens intevall för regressions koefficienterna "
   ]
  },
  {
   "cell_type": "code",
   "execution_count": 25,
   "metadata": {
    "collapsed": false,
    "deletable": true,
    "editable": true
   },
   "outputs": [
    {
     "name": "stdout",
     "output_type": "stream",
     "text": [
      "a = 0.0021+-0.0123, b = 0.0252+-0.0007\n"
     ]
    }
   ],
   "source": [
    "sum_yyhat,sum_xx_bare = 0.,0.\n",
    "for row in data.itertuples():\n",
    "    sum_yyhat += (row[2]-(row[1]*b+a))**2\n",
    "    sum_xx_bare += (row[1])**2\n",
    "\n",
    "s_yx = np.sqrt(sum_yyhat/(antal-2))\n",
    "sb = s_yx/np.sqrt(sum_xx)\n",
    "sa = s_yx*np.sqrt(sum_xx_bare/(antal*sum_xx))\n",
    "\n",
    "from scipy.stats import t\n",
    "t_kritisk = t.ppf(1-0.05/2,antal-2)\n",
    "\n",
    "print \"a = %.4f+-%.4f, b = %.4f+-%.4f\" % (a,sa*t_kritisk,b,sb*t_kritisk)"
   ]
  },
  {
   "cell_type": "markdown",
   "metadata": {
    "collapsed": true,
    "deletable": true,
    "editable": true
   },
   "source": [
    "## Upgift 5.4\n",
    "Uppgiften lyder\n",
    "<img src=\"img/exe5.4.png\">"
   ]
  },
  {
   "cell_type": "markdown",
   "metadata": {
    "deletable": true,
    "editable": true
   },
   "source": [
    "a. Vi kan först räkna ut vår uppskattning av vad vår mätpunkt motsvarar för koncentration. $\\hat{x}_0=\\frac{y_0-a}{b}$"
   ]
  },
  {
   "cell_type": "code",
   "execution_count": 26,
   "metadata": {
    "collapsed": true,
    "deletable": true,
    "editable": true
   },
   "outputs": [],
   "source": [
    "x_0 = (0.456-a)/b"
   ]
  },
  {
   "cell_type": "markdown",
   "metadata": {
    "deletable": true,
    "editable": true
   },
   "source": [
    "a. Vi använder ekvation 5.6.1 för att räkna ut $s_{x_0}$"
   ]
  },
  {
   "cell_type": "code",
   "execution_count": 33,
   "metadata": {
    "collapsed": false,
    "deletable": true,
    "editable": true
   },
   "outputs": [
    {
     "data": {
      "text/plain": [
       "0.30019766465289022"
      ]
     },
     "execution_count": 33,
     "metadata": {},
     "output_type": "execute_result"
    }
   ],
   "source": [
    "s_x0 = s_yx/b * np.sqrt(1+1./antal+(0.456-mean_y)**2/((b**2)*sum_xx))\n",
    "s_x0"
   ]
  },
  {
   "cell_type": "markdown",
   "metadata": {
    "deletable": true,
    "editable": true
   },
   "source": [
    "Vårt konfidensintervall fås ur $x_0=\\hat{x}_0 \\pm s_{\\hat{x}_0}\\cdot t_{n-2}$"
   ]
  },
  {
   "cell_type": "code",
   "execution_count": 35,
   "metadata": {
    "collapsed": false,
    "deletable": true,
    "editable": true
   },
   "outputs": [
    {
     "name": "stdout",
     "output_type": "stream",
     "text": [
      "x_0 = 12.29+-0.77\n"
     ]
    }
   ],
   "source": [
    "print \"x_0 = %.2f+-%.2f\" % (x_0,s_x0*t_kritisk)"
   ]
  },
  {
   "cell_type": "markdown",
   "metadata": {
    "collapsed": true,
    "deletable": true,
    "editable": true
   },
   "source": [
    "b. Det uppmätta värdet 0.347 ser ut att vara en utliggare. Vi testar det med Dixons test. Q=(\"misstänkt värde\"-\"närmaste värde\")/(max()-min())"
   ]
  },
  {
   "cell_type": "code",
   "execution_count": 36,
   "metadata": {
    "collapsed": false,
    "deletable": true,
    "editable": true
   },
   "outputs": [
    {
     "data": {
      "text/plain": [
       "0.8461538461538459"
      ]
     },
     "execution_count": 36,
     "metadata": {},
     "output_type": "execute_result"
    }
   ],
   "source": [
    "Q=(0.347-0.314)/(0.347-0.308)\n",
    "Q"
   ]
  },
  {
   "cell_type": "markdown",
   "metadata": {
    "deletable": true,
    "editable": true
   },
   "source": [
    "Enligt tabell A.6 så är kritiskt värde 0.829. Vi kan alltså anta att 0.347 är en utlggare, och exkludera det från stickprovet.\n",
    "\n",
    "Vi räknar ut medelvärdet för de tre återstående punkterna och bestämmer standard avvikelsen för $\\hat{x}_0$ med 5.6.2"
   ]
  },
  {
   "cell_type": "code",
   "execution_count": 38,
   "metadata": {
    "collapsed": false,
    "deletable": true,
    "editable": true
   },
   "outputs": [
    {
     "name": "stdout",
     "output_type": "stream",
     "text": [
      "x_0 = 12.29+-0.50\n"
     ]
    }
   ],
   "source": [
    "y_0 = np.mean([0.308,0.312,0.314])\n",
    "x_0 = (y_0-a)/b\n",
    "s_x0 = s_yx/b * np.sqrt(1./antal+1./3.+(y_0-mean_y)**2/((b**2)* sum_xx))\n",
    "print \"x_0 = %.2f+-%.2f\" % (x_0,s_x0*t_kritisk)\n"
   ]
  },
  {
   "cell_type": "code",
   "execution_count": null,
   "metadata": {
    "collapsed": true,
    "deletable": true,
    "editable": true
   },
   "outputs": [],
   "source": []
  }
 ],
 "metadata": {
  "kernelspec": {
   "display_name": "Python 2",
   "language": "python",
   "name": "python2"
  },
  "language_info": {
   "codemirror_mode": {
    "name": "ipython",
    "version": 2
   },
   "file_extension": ".py",
   "mimetype": "text/x-python",
   "name": "python",
   "nbconvert_exporter": "python",
   "pygments_lexer": "ipython2",
   "version": "2.7.13"
  }
 },
 "nbformat": 4,
 "nbformat_minor": 2
}
