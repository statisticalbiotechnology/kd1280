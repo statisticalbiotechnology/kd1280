{
 "cells": [
  {
   "cell_type": "markdown",
   "metadata": {
    "deletable": true,
    "editable": true
   },
   "source": [
    "## Övning 1.1"
   ]
  },
  {
   "cell_type": "markdown",
   "metadata": {
    "deletable": true,
    "editable": true
   },
   "source": [
    "Uppgiften lyder\n",
    "<img src=\"img/exe1.1.png\">"
   ]
  },
  {
   "cell_type": "markdown",
   "metadata": {
    "deletable": true,
    "editable": true
   },
   "source": [
    "Vi samanställer data och plottar det:"
   ]
  },
  {
   "cell_type": "code",
   "execution_count": 6,
   "metadata": {
    "collapsed": false,
    "deletable": true,
    "editable": true
   },
   "outputs": [
    {
     "data": {
      "text/plain": [
       "<matplotlib.text.Text at 0x7f9b07ceb150>"
      ]
     },
     "execution_count": 6,
     "metadata": {},
     "output_type": "execute_result"
    },
    {
     "data": {
      "image/png": "[encoded data removed]",
      "text/plain": [
       "<matplotlib.figure.Figure at 0x7f9b05a35fd0>"
      ]
     },
     "metadata": {},
     "output_type": "display_data"
    }
   ],
   "source": [
    "%matplotlib inline\n",
    "import matplotlib.pyplot as plt\n",
    "import pandas as pd\n",
    "import seaborn as sns\n",
    "\n",
    "stickprov = [[42.5,39.8,43.5,35.0,42.2],\n",
    "             [41.6,43.6,42.8,43.0,41.6],\n",
    "             [42.1,42.1,43.8,37.1,42.0],\n",
    "             [41.9,40.1,43.1,40.5,41.8],\n",
    "             [41.1,43.9,42.7,36.8,42.6],\n",
    "             [42.2,41.9,43.3,42.2,39.0]]\n",
    "df = pd.DataFrame(stickprov,columns=[\"A\",\"B\",\"C\",\"D\",\"E\"])\n",
    "sns.set(style=\"whitegrid\", color_codes=True)\n",
    "sns.stripplot(data=df,jitter=True)\n",
    "plt.hlines(42.0,-.5,5.5,colors='k')\n",
    "plt.ylabel(\"Albumin per liter blod [g]\")"
   ]
  },
  {
   "cell_type": "code",
   "execution_count": null,
   "metadata": {
    "collapsed": true,
    "deletable": true,
    "editable": true
   },
   "outputs": [],
   "source": []
  }
 ],
 "metadata": {
  "kernelspec": {
   "display_name": "Python 2",
   "language": "python",
   "name": "python2"
  },
  "language_info": {
   "codemirror_mode": {
    "name": "ipython",
    "version": 2
   },
   "file_extension": ".py",
   "mimetype": "text/x-python",
   "name": "python",
   "nbconvert_exporter": "python",
   "pygments_lexer": "ipython2",
   "version": "2.7.13"
  }
 },
 "nbformat": 4,
 "nbformat_minor": 2
}
